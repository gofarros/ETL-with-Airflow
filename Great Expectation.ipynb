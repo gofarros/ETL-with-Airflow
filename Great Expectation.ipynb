{
 "cells": [
  {
   "cell_type": "markdown",
   "metadata": {},
   "source": [
    "# Great Expectation M3"
   ]
  },
  {
   "cell_type": "markdown",
   "metadata": {},
   "source": [
    "## Import Library"
   ]
  },
  {
   "cell_type": "code",
   "execution_count": 4,
   "metadata": {},
   "outputs": [],
   "source": [
    "#import gx\n",
    "from great_expectations.data_context import FileDataContext"
   ]
  },
  {
   "cell_type": "code",
   "execution_count": 9,
   "metadata": {},
   "outputs": [],
   "source": [
    "# mengelola file di direktori ini\n",
    "context = FileDataContext.create(project_root_dir='./')\n",
    "\n",
    "# membuat nama datasource\n",
    "datasource_name = 'df_clean1'\n",
    "datasource = context.sources.add_pandas(datasource_name)\n",
    "\n",
    "# data aset\n",
    "asset_name = 'data_clean'\n",
    "path_to_data = 'P2M3_Ghaffar_Farros_data_clean.csv'\n",
    "asset = datasource.add_csv_asset(asset_name, filepath_or_buffer=path_to_data)\n",
    "\n",
    "# Build batch request\n",
    "batch_request = asset.build_batch_request()"
   ]
  },
  {
   "cell_type": "code",
   "execution_count": 10,
   "metadata": {},
   "outputs": [
    {
     "data": {
      "application/vnd.jupyter.widget-view+json": {
       "model_id": "e80de21d6ae549d397a0d819e669ec7b",
       "version_major": 2,
       "version_minor": 0
      },
      "text/plain": [
       "Calculating Metrics:   0%|          | 0/1 [00:00<?, ?it/s]"
      ]
     },
     "metadata": {},
     "output_type": "display_data"
    },
    {
     "data": {
      "text/html": [
       "<div>\n",
       "<style scoped>\n",
       "    .dataframe tbody tr th:only-of-type {\n",
       "        vertical-align: middle;\n",
       "    }\n",
       "\n",
       "    .dataframe tbody tr th {\n",
       "        vertical-align: top;\n",
       "    }\n",
       "\n",
       "    .dataframe thead th {\n",
       "        text-align: right;\n",
       "    }\n",
       "</style>\n",
       "<table border=\"1\" class=\"dataframe\">\n",
       "  <thead>\n",
       "    <tr style=\"text-align: right;\">\n",
       "      <th></th>\n",
       "      <th>id</th>\n",
       "      <th>name</th>\n",
       "      <th>price</th>\n",
       "      <th>brand</th>\n",
       "      <th>model</th>\n",
       "      <th>variant</th>\n",
       "      <th>series</th>\n",
       "      <th>year</th>\n",
       "      <th>kilometers</th>\n",
       "      <th>type</th>\n",
       "      <th>gearbox</th>\n",
       "      <th>fuel</th>\n",
       "      <th>status</th>\n",
       "      <th>cc</th>\n",
       "      <th>color</th>\n",
       "      <th>seating_capacity</th>\n",
       "    </tr>\n",
       "  </thead>\n",
       "  <tbody>\n",
       "    <tr>\n",
       "      <th>0</th>\n",
       "      <td>11530130</td>\n",
       "      <td>2010 Toyota Rukus Build 2 AZE151R</td>\n",
       "      <td>9999</td>\n",
       "      <td>Toyota</td>\n",
       "      <td>Rukus</td>\n",
       "      <td>Build 2</td>\n",
       "      <td>AZE151R</td>\n",
       "      <td>2010</td>\n",
       "      <td>263000</td>\n",
       "      <td>Wagon</td>\n",
       "      <td>Automatic</td>\n",
       "      <td>Unleaded Petrol</td>\n",
       "      <td>Used</td>\n",
       "      <td>2362</td>\n",
       "      <td>Grey</td>\n",
       "      <td>5</td>\n",
       "    </tr>\n",
       "    <tr>\n",
       "      <th>1</th>\n",
       "      <td>12190570</td>\n",
       "      <td>2021 Mercedes-Benz V 250 D Avantgarde MWB 447 ...</td>\n",
       "      <td>117990</td>\n",
       "      <td>Mercedes-Benz</td>\n",
       "      <td>V</td>\n",
       "      <td>250 D Avantgarde MWB</td>\n",
       "      <td>447 MY21</td>\n",
       "      <td>2021</td>\n",
       "      <td>19</td>\n",
       "      <td>Wagon</td>\n",
       "      <td>Automatic</td>\n",
       "      <td>Diesel</td>\n",
       "      <td>New In Stock</td>\n",
       "      <td>2143</td>\n",
       "      <td>Black</td>\n",
       "      <td>7</td>\n",
       "    </tr>\n",
       "    <tr>\n",
       "      <th>2</th>\n",
       "      <td>12321855</td>\n",
       "      <td>2021 Mercedes-Benz Valente 116 CDI MWB RWD 447...</td>\n",
       "      <td>79990</td>\n",
       "      <td>Mercedes-Benz</td>\n",
       "      <td>Valente</td>\n",
       "      <td>116 CDI MWB RWD</td>\n",
       "      <td>447 MY21</td>\n",
       "      <td>2021</td>\n",
       "      <td>24</td>\n",
       "      <td>Wagon</td>\n",
       "      <td>Automatic</td>\n",
       "      <td>Diesel</td>\n",
       "      <td>New In Stock</td>\n",
       "      <td>2143</td>\n",
       "      <td>Black</td>\n",
       "      <td>8</td>\n",
       "    </tr>\n",
       "    <tr>\n",
       "      <th>3</th>\n",
       "      <td>12346971</td>\n",
       "      <td>2010 Mercedes-Benz E250 CDI Avantgarde 207</td>\n",
       "      <td>34990</td>\n",
       "      <td>Mercedes-Benz</td>\n",
       "      <td>E250</td>\n",
       "      <td>CDI Avantgarde</td>\n",
       "      <td>207</td>\n",
       "      <td>2010</td>\n",
       "      <td>120579</td>\n",
       "      <td>Cabriolet</td>\n",
       "      <td>Automatic</td>\n",
       "      <td>Diesel</td>\n",
       "      <td>Used</td>\n",
       "      <td>2143</td>\n",
       "      <td>Black</td>\n",
       "      <td>4</td>\n",
       "    </tr>\n",
       "    <tr>\n",
       "      <th>4</th>\n",
       "      <td>12363884</td>\n",
       "      <td>2016 Holden Cruze CD JH MY16</td>\n",
       "      <td>15990</td>\n",
       "      <td>Holden</td>\n",
       "      <td>Cruze</td>\n",
       "      <td>CD</td>\n",
       "      <td>JH MY16</td>\n",
       "      <td>2016</td>\n",
       "      <td>72506</td>\n",
       "      <td>Sportswagon</td>\n",
       "      <td>Automatic</td>\n",
       "      <td>Unleaded Petrol</td>\n",
       "      <td>Used</td>\n",
       "      <td>1796</td>\n",
       "      <td>White</td>\n",
       "      <td>5</td>\n",
       "    </tr>\n",
       "  </tbody>\n",
       "</table>\n",
       "</div>"
      ],
      "text/plain": [
       "         id                                               name   price  \\\n",
       "0  11530130                  2010 Toyota Rukus Build 2 AZE151R    9999   \n",
       "1  12190570  2021 Mercedes-Benz V 250 D Avantgarde MWB 447 ...  117990   \n",
       "2  12321855  2021 Mercedes-Benz Valente 116 CDI MWB RWD 447...   79990   \n",
       "3  12346971         2010 Mercedes-Benz E250 CDI Avantgarde 207   34990   \n",
       "4  12363884                       2016 Holden Cruze CD JH MY16   15990   \n",
       "\n",
       "           brand    model               variant    series  year  kilometers  \\\n",
       "0         Toyota    Rukus               Build 2   AZE151R  2010      263000   \n",
       "1  Mercedes-Benz        V  250 D Avantgarde MWB  447 MY21  2021          19   \n",
       "2  Mercedes-Benz  Valente       116 CDI MWB RWD  447 MY21  2021          24   \n",
       "3  Mercedes-Benz     E250        CDI Avantgarde       207  2010      120579   \n",
       "4         Holden    Cruze                    CD   JH MY16  2016       72506   \n",
       "\n",
       "          type    gearbox             fuel         status    cc  color  \\\n",
       "0        Wagon  Automatic  Unleaded Petrol           Used  2362   Grey   \n",
       "1        Wagon  Automatic           Diesel   New In Stock  2143  Black   \n",
       "2        Wagon  Automatic           Diesel   New In Stock  2143  Black   \n",
       "3    Cabriolet  Automatic           Diesel           Used  2143  Black   \n",
       "4  Sportswagon  Automatic  Unleaded Petrol           Used  1796  White   \n",
       "\n",
       "   seating_capacity  \n",
       "0                 5  \n",
       "1                 7  \n",
       "2                 8  \n",
       "3                 4  \n",
       "4                 5  "
      ]
     },
     "execution_count": 10,
     "metadata": {},
     "output_type": "execute_result"
    }
   ],
   "source": [
    "# Buat expectation suite\n",
    "expectation_suite_name = 'expectation-data-clean'\n",
    "context.add_or_update_expectation_suite(expectation_suite_name)\n",
    "\n",
    "# buat validator dengan suite\n",
    "validator = context.get_validator(\n",
    "    batch_request = batch_request,\n",
    "    expectation_suite_name = expectation_suite_name\n",
    ")\n",
    "\n",
    "# cek validator\n",
    "validator.head()"
   ]
  },
  {
   "cell_type": "markdown",
   "metadata": {},
   "source": [
    "## 1. to be unique"
   ]
  },
  {
   "cell_type": "code",
   "execution_count": 11,
   "metadata": {},
   "outputs": [
    {
     "data": {
      "application/vnd.jupyter.widget-view+json": {
       "model_id": "393bc949cd7e4d2a8b10cac660f80ee1",
       "version_major": 2,
       "version_minor": 0
      },
      "text/plain": [
       "Calculating Metrics:   0%|          | 0/8 [00:00<?, ?it/s]"
      ]
     },
     "metadata": {},
     "output_type": "display_data"
    },
    {
     "data": {
      "text/plain": [
       "{\n",
       "  \"success\": true,\n",
       "  \"result\": {\n",
       "    \"element_count\": 17048,\n",
       "    \"unexpected_count\": 0,\n",
       "    \"unexpected_percent\": 0.0,\n",
       "    \"partial_unexpected_list\": [],\n",
       "    \"missing_count\": 0,\n",
       "    \"missing_percent\": 0.0,\n",
       "    \"unexpected_percent_total\": 0.0,\n",
       "    \"unexpected_percent_nonmissing\": 0.0\n",
       "  },\n",
       "  \"meta\": {},\n",
       "  \"exception_info\": {\n",
       "    \"raised_exception\": false,\n",
       "    \"exception_traceback\": null,\n",
       "    \"exception_message\": null\n",
       "  }\n",
       "}"
      ]
     },
     "execution_count": 11,
     "metadata": {},
     "output_type": "execute_result"
    }
   ],
   "source": [
    "# Expectation 1, value kolom id harus unique\n",
    "validator.expect_column_values_to_be_unique('id')"
   ]
  },
  {
   "cell_type": "markdown",
   "metadata": {},
   "source": [
    "## 2. to be between min_value and max_value"
   ]
  },
  {
   "cell_type": "code",
   "execution_count": 12,
   "metadata": {},
   "outputs": [
    {
     "data": {
      "application/vnd.jupyter.widget-view+json": {
       "model_id": "7b6dd9449d0a4f7c8dbdc30d0ae0f53f",
       "version_major": 2,
       "version_minor": 0
      },
      "text/plain": [
       "Calculating Metrics:   0%|          | 0/8 [00:00<?, ?it/s]"
      ]
     },
     "metadata": {},
     "output_type": "display_data"
    },
    {
     "data": {
      "text/plain": [
       "{\n",
       "  \"success\": true,\n",
       "  \"result\": {\n",
       "    \"element_count\": 17048,\n",
       "    \"unexpected_count\": 0,\n",
       "    \"unexpected_percent\": 0.0,\n",
       "    \"partial_unexpected_list\": [],\n",
       "    \"missing_count\": 0,\n",
       "    \"missing_percent\": 0.0,\n",
       "    \"unexpected_percent_total\": 0.0,\n",
       "    \"unexpected_percent_nonmissing\": 0.0\n",
       "  },\n",
       "  \"meta\": {},\n",
       "  \"exception_info\": {\n",
       "    \"raised_exception\": false,\n",
       "    \"exception_traceback\": null,\n",
       "    \"exception_message\": null\n",
       "  }\n",
       "}"
      ]
     },
     "execution_count": 12,
     "metadata": {},
     "output_type": "execute_result"
    }
   ],
   "source": [
    "# Expectation 2, cc mobil berada antara 500-10000\n",
    "validator.expect_column_values_to_be_between(\n",
    "    column='cc', min_value=500, max_value=10000\n",
    ")"
   ]
  },
  {
   "cell_type": "markdown",
   "metadata": {},
   "source": [
    "## 3. to be in set"
   ]
  },
  {
   "cell_type": "code",
   "execution_count": 13,
   "metadata": {},
   "outputs": [
    {
     "data": {
      "application/vnd.jupyter.widget-view+json": {
       "model_id": "a91eaf1020b34062afe1dcc39d4fcc2c",
       "version_major": 2,
       "version_minor": 0
      },
      "text/plain": [
       "Calculating Metrics:   0%|          | 0/8 [00:00<?, ?it/s]"
      ]
     },
     "metadata": {},
     "output_type": "display_data"
    },
    {
     "data": {
      "text/plain": [
       "{\n",
       "  \"success\": true,\n",
       "  \"result\": {\n",
       "    \"element_count\": 17048,\n",
       "    \"unexpected_count\": 0,\n",
       "    \"unexpected_percent\": 0.0,\n",
       "    \"partial_unexpected_list\": [],\n",
       "    \"missing_count\": 0,\n",
       "    \"missing_percent\": 0.0,\n",
       "    \"unexpected_percent_total\": 0.0,\n",
       "    \"unexpected_percent_nonmissing\": 0.0\n",
       "  },\n",
       "  \"meta\": {},\n",
       "  \"exception_info\": {\n",
       "    \"raised_exception\": false,\n",
       "    \"exception_traceback\": null,\n",
       "    \"exception_message\": null\n",
       "  }\n",
       "}"
      ]
     },
     "execution_count": 13,
     "metadata": {},
     "output_type": "execute_result"
    }
   ],
   "source": [
    "# Expectation 3, seating_capacity value diantara angka didalam list\n",
    "validator.expect_column_values_to_be_in_set('seating_capacity', [ 5,  7,  8,  4,  2,  3, 14,  6,  9, 11])"
   ]
  },
  {
   "cell_type": "markdown",
   "metadata": {},
   "source": [
    "## 4. to be in type list"
   ]
  },
  {
   "cell_type": "code",
   "execution_count": 19,
   "metadata": {},
   "outputs": [
    {
     "data": {
      "application/vnd.jupyter.widget-view+json": {
       "model_id": "a0574735dc3f48aa8ad50f545ca1a9af",
       "version_major": 2,
       "version_minor": 0
      },
      "text/plain": [
       "Calculating Metrics:   0%|          | 0/1 [00:00<?, ?it/s]"
      ]
     },
     "metadata": {},
     "output_type": "display_data"
    },
    {
     "data": {
      "text/plain": [
       "{\n",
       "  \"success\": true,\n",
       "  \"result\": {\n",
       "    \"observed_value\": \"int64\"\n",
       "  },\n",
       "  \"meta\": {},\n",
       "  \"exception_info\": {\n",
       "    \"raised_exception\": false,\n",
       "    \"exception_traceback\": null,\n",
       "    \"exception_message\": null\n",
       "  }\n",
       "}"
      ]
     },
     "execution_count": 19,
     "metadata": {},
     "output_type": "execute_result"
    }
   ],
   "source": [
    "# Expectation 4, type data harus sesuai\n",
    "validator.expect_column_values_to_be_in_type_list('kilometers', ['int64', 'float'])"
   ]
  },
  {
   "cell_type": "markdown",
   "metadata": {},
   "source": [
    "## 5. to not be null"
   ]
  },
  {
   "cell_type": "code",
   "execution_count": 14,
   "metadata": {},
   "outputs": [
    {
     "data": {
      "application/vnd.jupyter.widget-view+json": {
       "model_id": "dc5dac002a4746f6a8dcee8d9a4b5fb5",
       "version_major": 2,
       "version_minor": 0
      },
      "text/plain": [
       "Calculating Metrics:   0%|          | 0/6 [00:00<?, ?it/s]"
      ]
     },
     "metadata": {},
     "output_type": "display_data"
    },
    {
     "data": {
      "text/plain": [
       "{\n",
       "  \"success\": true,\n",
       "  \"result\": {\n",
       "    \"element_count\": 17048,\n",
       "    \"unexpected_count\": 0,\n",
       "    \"unexpected_percent\": 0.0,\n",
       "    \"partial_unexpected_list\": []\n",
       "  },\n",
       "  \"meta\": {},\n",
       "  \"exception_info\": {\n",
       "    \"raised_exception\": false,\n",
       "    \"exception_traceback\": null,\n",
       "    \"exception_message\": null\n",
       "  }\n",
       "}"
      ]
     },
     "execution_count": 14,
     "metadata": {},
     "output_type": "execute_result"
    }
   ],
   "source": [
    "# Expectation 5, nama tidak boleh ada null\n",
    "validator.expect_column_values_to_not_be_null('name')"
   ]
  },
  {
   "cell_type": "markdown",
   "metadata": {},
   "source": [
    "## 6. unique values to be greater than"
   ]
  },
  {
   "cell_type": "code",
   "execution_count": 27,
   "metadata": {},
   "outputs": [
    {
     "data": {
      "application/vnd.jupyter.widget-view+json": {
       "model_id": "33851b034e984b25b9066ffae0460c48",
       "version_major": 2,
       "version_minor": 0
      },
      "text/plain": [
       "Calculating Metrics:   0%|          | 0/4 [00:00<?, ?it/s]"
      ]
     },
     "metadata": {},
     "output_type": "display_data"
    },
    {
     "data": {
      "text/plain": [
       "{\n",
       "  \"success\": true,\n",
       "  \"result\": {\n",
       "    \"observed_value\": 10\n",
       "  },\n",
       "  \"meta\": {},\n",
       "  \"exception_info\": {\n",
       "    \"raised_exception\": false,\n",
       "    \"exception_traceback\": null,\n",
       "    \"exception_message\": null\n",
       "  }\n",
       "}"
      ]
     },
     "execution_count": 27,
     "metadata": {},
     "output_type": "execute_result"
    }
   ],
   "source": [
    "# Expectation 6, tempat duduk berada di antara 2 dan 10\n",
    "validator.expect_column_unique_value_count_to_be_between('seating_capacity', min_value=2, max_value=10)"
   ]
  },
  {
   "cell_type": "markdown",
   "metadata": {},
   "source": [
    "## 7. column count to equal"
   ]
  },
  {
   "cell_type": "code",
   "execution_count": 34,
   "metadata": {},
   "outputs": [
    {
     "data": {
      "application/vnd.jupyter.widget-view+json": {
       "model_id": "94e144a600f2477a89ddafbccb97fd16",
       "version_major": 2,
       "version_minor": 0
      },
      "text/plain": [
       "Calculating Metrics:   0%|          | 0/3 [00:00<?, ?it/s]"
      ]
     },
     "metadata": {},
     "output_type": "display_data"
    },
    {
     "data": {
      "text/plain": [
       "{\n",
       "  \"success\": true,\n",
       "  \"result\": {\n",
       "    \"observed_value\": 16\n",
       "  },\n",
       "  \"meta\": {},\n",
       "  \"exception_info\": {\n",
       "    \"raised_exception\": false,\n",
       "    \"exception_traceback\": null,\n",
       "    \"exception_message\": null\n",
       "  }\n",
       "}"
      ]
     },
     "execution_count": 34,
     "metadata": {},
     "output_type": "execute_result"
    }
   ],
   "source": [
    "# Expectation 7, memastikan sesuai ada 16 kolom\n",
    "validator.expect_table_column_count_to_equal(16)  "
   ]
  }
 ],
 "metadata": {
  "kernelspec": {
   "display_name": "base",
   "language": "python",
   "name": "python3"
  },
  "language_info": {
   "codemirror_mode": {
    "name": "ipython",
    "version": 3
   },
   "file_extension": ".py",
   "mimetype": "text/x-python",
   "name": "python",
   "nbconvert_exporter": "python",
   "pygments_lexer": "ipython3",
   "version": "3.12.3"
  }
 },
 "nbformat": 4,
 "nbformat_minor": 2
}
